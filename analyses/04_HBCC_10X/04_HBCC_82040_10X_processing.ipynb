{
 "cells": [
  {
   "cell_type": "markdown",
   "id": "35266d77-233e-49ba-8deb-cb53946a6479",
   "metadata": {},
   "source": [
    "# HBCC 82040 (GG) 10X ONT Processing"
   ]
  },
  {
   "cell_type": "markdown",
   "id": "bb1db7eb-4d38-4a6a-afc6-8c4cd42549bf",
   "metadata": {
    "tags": []
   },
   "source": [
    "* **Project:** African-ancestry intronic *GBA1* branch point variant\n",
    "* **Language:** Bash \n",
    "* **Last updated:** 20-DEC-2023"
   ]
  },
  {
   "cell_type": "markdown",
   "id": "de6195ea-ac53-4d94-ad65-f97d65b46944",
   "metadata": {},
   "source": [
    "## Notebook Overview\n",
    "- Process raw 10X data from basecalling to mapping \n",
    "- Split out data by cell types \n",
    "- Get coverage information and generate plots \n",
    "- Plot barcode sequence diversity"
   ]
  },
  {
   "cell_type": "markdown",
   "id": "6372b24a-3434-46b9-a3b6-d3a64a07caa5",
   "metadata": {
    "tags": []
   },
   "source": [
    "**Note**: Notebook is only showing processing of HBCC_82040. HBCC_82041 (TT) was processed the same way."
   ]
  },
  {
   "cell_type": "markdown",
   "id": "d9329b3b",
   "metadata": {},
   "source": [
    "### CHANGELOG\n",
    "20-DEC-2023: Notebook final draft"
   ]
  },
  {
   "cell_type": "markdown",
   "id": "f7d6de5a-4312-4b11-a445-993bd93098bc",
   "metadata": {
    "tags": []
   },
   "source": [
    "---"
   ]
  },
  {
   "cell_type": "code",
   "execution_count": 1,
   "id": "4dba0d0e-5228-4967-8ebe-1d0a9cab43dd",
   "metadata": {
    "tags": []
   },
   "outputs": [],
   "source": [
    "MAIN=\"/path/to/data/10X/HBCC_82040_10X_GBA/\""
   ]
  },
  {
   "cell_type": "markdown",
   "id": "b91e82f3-81e0-42fe-b661-0d5ca79523e8",
   "metadata": {},
   "source": [
    "## 1. Basecalling"
   ]
  },
  {
   "cell_type": "markdown",
   "id": "1053dab8-9a17-4e84-b82d-fd3cd2f9eb2f",
   "metadata": {},
   "source": [
    "Sample has two flow cells"
   ]
  },
  {
   "cell_type": "code",
   "execution_count": 9,
   "id": "c73c184f-86ce-446a-a745-fc49f7534292",
   "metadata": {
    "collapsed": true,
    "jupyter": {
     "outputs_hidden": true
    },
    "tags": []
   },
   "outputs": [
    {
     "name": "stdout",
     "output_type": "stream",
     "text": [
      "13215816\n",
      "13215820\n"
     ]
    }
   ],
   "source": [
    "sbatch --partition=gpu --cpus-per-task=5 --mem=20g --gres=gpu:a100:2,lscratch:200 --time=3-0 --wrap=\"bash basecalling_RNA_R9_NO_METH.sh $MAIN/20231124_1633_2E_PAM74600_ee7f7bc0/fast5/ $MAIN/20231124_1633_2E_PAM74600_ee7f7bc0/out/\"\n",
    "sbatch --partition=gpu --cpus-per-task=5 --mem=20g --gres=gpu:a100:2,lscratch:200 --time=3-0 --wrap=\"bash basecalling_RNA_R9_NO_METH.sh $MAIN/20231124_1804_2F_PAM71835_3fee6af7/fast5/ $MAIN/20231124_1804_2F_PAM71835_3fee6af7/out/\"\n"
   ]
  },
  {
   "cell_type": "code",
   "execution_count": 3,
   "id": "6e120811-d0e0-43a1-aa18-74720929f568",
   "metadata": {
    "collapsed": true,
    "jupyter": {
     "outputs_hidden": true
    },
    "tags": []
   },
   "outputs": [
    {
     "name": "stdout",
     "output_type": "stream",
     "text": [
      "13624752\n",
      "13624753\n"
     ]
    }
   ],
   "source": [
    "# Clean\n",
    "sbatch --cpus-per-task=5 --mem=80g --mail-type=END --time=12:00:00 /data/CARDPB/code/RNA/merge_fastq_bam_nozip.sh \\\n",
    "$MAIN/20231124_1633_2E_PAM74600_ee7f7bc0/out/pass/ \\\n",
    "HBCC_82040_PAM74600\n",
    "\n",
    "sbatch --cpus-per-task=5 --mem=80g --mail-type=END --time=12:00:00 /data/CARDPB/code/RNA/merge_fastq_bam_nozip.sh \\\n",
    "$MAIN/20231124_1804_2F_PAM71835_3fee6af7/out/pass/ \\\n",
    "HBCC_82040_PAM71835\n",
    "\n"
   ]
  },
  {
   "cell_type": "code",
   "execution_count": 8,
   "id": "91dd5ad4-cb73-49ee-abbc-cb470d6e6418",
   "metadata": {
    "tags": []
   },
   "outputs": [],
   "source": [
    "# Organizing sequencing folder, showing for one flow cell, repeat for both\n",
    "cd $MAIN/20231124_1804_2F_PAM71835_3fee6af7/out/\n",
    "mkdir log_files\n",
    "mv *log log_files\n",
    "mv sequencing_summary.txt ../other_reports_PAM71835/\n",
    "mv sequencing_telemetry.js ../other_reports_PAM71835/\n",
    "mv log_files ../other_reports_PAM71835/\n",
    "mv ./pass/HBCC_82040_PAM71835.fastq ../\n",
    "mv ./pass/pycoQC* ../other_reports_PAM71835/\n",
    "mv ./pass/stats.pass.tsv ../other_reports_PAM71835/\n",
    "rm -r ./pass/\n",
    "rm -r ./fail/\n",
    "cd ../\n",
    "rm -r ./out/"
   ]
  },
  {
   "cell_type": "code",
   "execution_count": 13,
   "id": "1fc4a64c-29e2-434a-b96a-d00e3cdf4198",
   "metadata": {
    "tags": []
   },
   "outputs": [],
   "source": [
    "# Cat two fastqs for final merged fastq\n",
    "cat $MAIN/*.fastq > $MAIN/HBCC_82040_merged.fastq"
   ]
  },
  {
   "cell_type": "markdown",
   "id": "b9bf325f-6274-40d5-9999-f2b8d1ac2abd",
   "metadata": {},
   "source": [
    "## 2. Mapping merged fastq"
   ]
  },
  {
   "cell_type": "markdown",
   "id": "0d5d78d6-6f00-415d-a0ee-bc3143949a75",
   "metadata": {
    "tags": []
   },
   "source": [
    "First mapping without splitting by cell type or filtering with pychopper"
   ]
  },
  {
   "cell_type": "code",
   "execution_count": 15,
   "id": "888368d4-5374-4bc3-907f-631c1d22fe0b",
   "metadata": {
    "collapsed": true,
    "jupyter": {
     "outputs_hidden": true
    },
    "tags": []
   },
   "outputs": [
    {
     "name": "stdout",
     "output_type": "stream",
     "text": [
      "13630106\n"
     ]
    }
   ],
   "source": [
    "# No pychopper\n",
    "sbatch --mem=80g --cpus-per-task=5 --time=2-0 --mail-type=END map_merged.sh HBCC_82040_merged"
   ]
  },
  {
   "cell_type": "markdown",
   "id": "da2c2af7-752c-47fc-98f1-437bee2b747a",
   "metadata": {},
   "source": [
    "Subset mapped bam for GBA +/- 1 Mb and convert back to fastq. We are making sure we are only keeping reads mapping to the GBA1/GBAP1 region for further analysis."
   ]
  },
  {
   "cell_type": "code",
   "execution_count": 3,
   "id": "80a923c8-725a-40da-a16a-5491393de839",
   "metadata": {
    "collapsed": true,
    "jupyter": {
     "outputs_hidden": true
    },
    "tags": []
   },
   "outputs": [
    {
     "name": "stdout",
     "output_type": "stream",
     "text": [
      "[+] Loading samtools 1.17  ... \n",
      "[M::bam2fq_mainloop] discarded 0 singletons\n",
      "[M::bam2fq_mainloop] processed 17344 reads\n"
     ]
    }
   ],
   "source": [
    "ml samtools\n",
    "samtools view -h -b HBCC_82040_merged.hg38.sorted.bam \"chr1:154234452-156244627\" > gba_hg38.bam\n",
    "samtools index gba_hg38.bam\n",
    "samtools bam2fq gba_hg38.bam > gba_hg38.fastq"
   ]
  },
  {
   "cell_type": "markdown",
   "id": "34429ab8-3455-4d00-a5e6-a2ed16db26bc",
   "metadata": {},
   "source": [
    "## 3. Subset fastq for each cell type"
   ]
  },
  {
   "cell_type": "markdown",
   "id": "8c8be15b-b5c2-4371-bf65-6f22c5e69d56",
   "metadata": {},
   "source": [
    "Grep fastq for perfect match and 1 mismatch"
   ]
  },
  {
   "cell_type": "code",
   "execution_count": 4,
   "id": "d255c831-768e-4288-9bb2-5b299e0946e2",
   "metadata": {
    "tags": []
   },
   "outputs": [],
   "source": [
    "mkdir $MAIN/cell_types/"
   ]
  },
  {
   "cell_type": "markdown",
   "id": "2ddc5dbe-4643-4bab-8fa0-89049c293ea5",
   "metadata": {},
   "source": [
    "cell_types folder includes file of corresponding barcodes per cell type and a list of cell names"
   ]
  },
  {
   "cell_type": "code",
   "execution_count": 3,
   "id": "f9ddc5d3-9a1d-409c-b866-955d93de7c73",
   "metadata": {
    "tags": []
   },
   "outputs": [
    {
     "name": "stdout",
     "output_type": "stream",
     "text": [
      "Astrocyte\n",
      "Excitatory_Neuron\n",
      "Inhibitory_Neuron\n",
      "Microglia\n",
      "Oligo_Precursor\n",
      "Oligodendrocyte\n",
      "Vascular\n"
     ]
    }
   ],
   "source": [
    "cat $MAIN/cell_types/cell_names.txt"
   ]
  },
  {
   "cell_type": "code",
   "execution_count": 4,
   "id": "b3e13fad-fe76-484f-a933-5d9e89fd94ec",
   "metadata": {
    "tags": []
   },
   "outputs": [
    {
     "name": "stdout",
     "output_type": "stream",
     "text": [
      "AAACAGCCAACTAGAA-1,Oligodendrocyte\n",
      "AAACAGCCAGGCTTGT-1,Oligodendrocyte\n",
      "AAACAGCCATTTAAGC-1,Microglia\n",
      "AAACATGCAACTAACT-1,Oligodendrocyte\n",
      "AAACATGCAGTTTGGC-1,Oligodendrocyte\n",
      "AAACATGCATGCTCCC-1,Oligodendrocyte\n",
      "AAACCAACATCCCGCT-1,Oligodendrocyte\n",
      "AAACCGAAGCGAGCGA-1,Oligodendrocyte\n",
      "AAACCGAAGTGGACAA-1,Oligodendrocyte\n",
      "AAACCGCGTAATGGCC-1,Oligodendrocyte\n"
     ]
    }
   ],
   "source": [
    "head -10 $MAIN/cell_types/HBCC_82040_types.csv"
   ]
  },
  {
   "cell_type": "markdown",
   "id": "e7a72735-f2aa-4132-b49b-56a2f8401262",
   "metadata": {},
   "source": [
    "Split the barcode csv file into one file with barcodes per cell type"
   ]
  },
  {
   "cell_type": "code",
   "execution_count": null,
   "id": "d6efb2d2-e6e8-4669-a672-6db4c9479c65",
   "metadata": {},
   "outputs": [],
   "source": [
    "python $MAIN/cell_types/separate_celltypes.py"
   ]
  },
  {
   "cell_type": "markdown",
   "id": "5684ae08-701b-4c46-ba7d-74e391e6d966",
   "metadata": {},
   "source": [
    "### Grep for perfect barcode match"
   ]
  },
  {
   "cell_type": "code",
   "execution_count": 16,
   "id": "bfee3e75-fd42-47f7-985a-9f99dd3ed7f7",
   "metadata": {
    "tags": []
   },
   "outputs": [],
   "source": [
    "# Grep \n",
    "cat $MAIN/cell_types/cell_names.txt | while read line ; do\n",
    "sh grep_fastq.sh $line\n",
    "done"
   ]
  },
  {
   "cell_type": "markdown",
   "id": "d2d2358c-efd9-4960-80f5-86c98d036038",
   "metadata": {
    "tags": []
   },
   "source": [
    "### Grep to allow one mismatch. \n",
    "This process takes a while, so better to split each sequence into its own command and run through swarm. The swarm job will result in a file per barcode with the corresponding fastq sequence, then we will do a perfect match of these sequences against the fastq to retrieve the rest of the fastq information."
   ]
  },
  {
   "cell_type": "code",
   "execution_count": 8,
   "id": "4e6acef3-f1e3-4e46-8c8b-c3ae718e41f2",
   "metadata": {
    "collapsed": true,
    "jupyter": {
     "outputs_hidden": true
    },
    "tags": []
   },
   "outputs": [
    {
     "name": "stdout",
     "output_type": "stream",
     "text": [
      "Swarm script generated: Astrocyte.swarm\n",
      "Swarm script generated: Excitatory_Neuron.swarm\n",
      "Swarm script generated: Inhibitory_Neuron.swarm\n",
      "Swarm script generated: Microglia.swarm\n",
      "Swarm script generated: Oligo_Precursor.swarm\n",
      "Swarm script generated: Oligodendrocyte.swarm\n",
      "Swarm script generated: Vascular.swarm\n"
     ]
    }
   ],
   "source": [
    "# Agrep\n",
    "# Generate swarm\n",
    "cd $MAIN/cell_types/\n",
    "cat cell_names.txt | while read line ; do\n",
    "sh generate_swarm.sh $line\n",
    "done"
   ]
  },
  {
   "cell_type": "code",
   "execution_count": 9,
   "id": "3bec9c95-ab8c-46b2-936d-7fea28c3a79e",
   "metadata": {
    "collapsed": true,
    "jupyter": {
     "outputs_hidden": true
    },
    "tags": []
   },
   "outputs": [
    {
     "name": "stdout",
     "output_type": "stream",
     "text": [
      "13789159\n",
      "13789161\n",
      "13789162\n",
      "13789279\n",
      "13789364\n",
      "13789375\n",
      "13789376\n"
     ]
    }
   ],
   "source": [
    "cat cell_names.txt | while read line ; do\n",
    "swarm $line.swarm\n",
    "done"
   ]
  },
  {
   "cell_type": "code",
   "execution_count": null,
   "id": "948d341e-2cdb-4da2-aae7-c3f5d4c8cae1",
   "metadata": {},
   "outputs": [],
   "source": [
    "# Cat each 1 mismatch sequence file into one merged file"
   ]
  },
  {
   "cell_type": "code",
   "execution_count": 14,
   "id": "15229e29-440d-49c3-8f3b-1a93272fcc28",
   "metadata": {
    "tags": []
   },
   "outputs": [],
   "source": [
    "# Temp move seq counts to parent folder and then move back\n",
    "cat cell_names.txt | while read line ; do\n",
    "cat agrep_\"$line\"/* > agrep_\"$line\"/\"$line\"_agrep_merge.txt \n",
    "done"
   ]
  },
  {
   "cell_type": "code",
   "execution_count": 17,
   "id": "b23dc4ae-07a8-4826-b255-2b76be2ad847",
   "metadata": {
    "tags": []
   },
   "outputs": [],
   "source": [
    "# Go back and do a regular grep with these, with the normal flags\n",
    "cd $MAIN\n",
    "cat $MAIN/cell_types/cell_names.txt | while read line ; do\n",
    "grep -A 2 -B 1 -f $MAIN/cell_types/agrep_\"$line\"/$line_agrep_merge.txt $MAIN/gba_hg38.fastq > $MAIN/cells_fastq/agrep/$line.gba.agrep.fastq\n",
    "sed -i '/^--$/d' $MAIN/cells_fastq/agrep/$line.gba.agrep.fastq\n",
    "wc -l $MAIN/cells_fastq/agrep/$line.gba.agrep.fastq >> $MAIN/cells_fastq/agrep/cell_numbers_agrep_grep_gba.txt"
   ]
  },
  {
   "cell_type": "markdown",
   "id": "a57605bf-ff1c-4ff1-ac4a-4a1d27bc1ae8",
   "metadata": {},
   "source": [
    "### Merge perfect match and 1 mistmach fastqs, then keep only unique sequences"
   ]
  },
  {
   "cell_type": "code",
   "execution_count": 3,
   "id": "b9c0e144-9d36-4b77-a691-98c7c1b2a9cb",
   "metadata": {
    "tags": []
   },
   "outputs": [],
   "source": [
    "cd $MAIN/cells_fastq/"
   ]
  },
  {
   "cell_type": "code",
   "execution_count": 5,
   "id": "83ec0c1b-d6c3-413e-bc61-6d7df23abe08",
   "metadata": {
    "tags": []
   },
   "outputs": [],
   "source": [
    "cat $MAIN/cell_types/cell_names.txt | while read line ; do\n",
    "cat ./grep/$line.gba.fastq ./agrep/$line.gba.agrep.fastq > ./merged/$line.gba.fastq\n",
    "done"
   ]
  },
  {
   "cell_type": "code",
   "execution_count": 10,
   "id": "3bde1622-6d1c-484a-890e-e74693127a87",
   "metadata": {
    "tags": []
   },
   "outputs": [],
   "source": [
    "cd $MAIN/cells_fastq/merged/"
   ]
  },
  {
   "cell_type": "code",
   "execution_count": 11,
   "id": "fd69c333-d6e3-408b-a039-f90542076c8f",
   "metadata": {
    "collapsed": true,
    "jupyter": {
     "outputs_hidden": true
    },
    "tags": []
   },
   "outputs": [
    {
     "name": "stdout",
     "output_type": "stream",
     "text": [
      "Unique reads written to: Astrocyte_unique_reads.fastq\n",
      "Unique reads written to: Excitatory_Neuron_unique_reads.fastq\n",
      "Unique reads written to: Inhibitory_Neuron_unique_reads.fastq\n",
      "Unique reads written to: Microglia_unique_reads.fastq\n",
      "Unique reads written to: Oligo_Precursor_unique_reads.fastq\n",
      "Unique reads written to: Oligodendrocyte_unique_reads.fastq\n",
      "Unique reads written to: Vascular_unique_reads.fastq\n"
     ]
    }
   ],
   "source": [
    "# Keep only unique sequences\n",
    "cat $MAIN/cell_types/cell_names.txt | while read line ; do\n",
    "python uniq_entries.py $line\n",
    "done"
   ]
  },
  {
   "cell_type": "markdown",
   "id": "748bd3fd-a673-4c16-b6fe-646acd0a24ed",
   "metadata": {},
   "source": [
    "## 4. Map the cell-specific fastqs"
   ]
  },
  {
   "cell_type": "code",
   "execution_count": null,
   "id": "60a01e12-db03-4de2-b404-04d988afcb55",
   "metadata": {
    "collapsed": true,
    "jupyter": {
     "outputs_hidden": true
    },
    "tags": []
   },
   "outputs": [
    {
     "name": "stdout",
     "output_type": "stream",
     "text": [
      "13917067\n",
      "13917068\n",
      "13917069\n",
      "13917070\n",
      "13917071\n",
      "13917072\n",
      "13917073\n"
     ]
    }
   ],
   "source": [
    "cd $MAIN\n",
    "cat $MAIN/cell_types/cell_names.txt | while read line ; do\n",
    "sbatch --mem=40g --cpus-per-task=2 pychopper_minimap.sh $line\n",
    "done"
   ]
  },
  {
   "cell_type": "markdown",
   "id": "1d71ebe3-d51b-4eae-8d35-271f517d946a",
   "metadata": {},
   "source": [
    "## 5. Make coverage plots"
   ]
  },
  {
   "cell_type": "code",
   "execution_count": null,
   "id": "5bc78f44-e7e7-4c12-ac5b-40cfb0b96729",
   "metadata": {},
   "outputs": [],
   "source": [
    "mkdir $MAIN/depth"
   ]
  },
  {
   "cell_type": "code",
   "execution_count": 2,
   "id": "dc98cad6-f926-478e-a463-aaefc105ee44",
   "metadata": {
    "collapsed": true,
    "jupyter": {
     "outputs_hidden": true
    },
    "tags": []
   },
   "outputs": [
    {
     "name": "stdout",
     "output_type": "stream",
     "text": [
      "[+] Loading samtools 1.17  ... \n",
      "mkdir: cannot create directory ‘/data/CARDPB/data/HBCC/10X/HBCC_82040_10X_GBA//9CYCLES/depth/pychopper/merged/tmp/’: File exists\n",
      "Done\n"
     ]
    }
   ],
   "source": [
    "# Regional \n",
    "sh GBA_regional_coverage.sh \\\n",
    "cell_names.txt \\\n",
    "$MAIN/9CYCLES/mapped/ \\\n",
    "cell_names.txt "
   ]
  },
  {
   "cell_type": "code",
   "execution_count": 3,
   "id": "0047ec99-5aa9-406b-8fa7-ca0bc188bfe5",
   "metadata": {
    "collapsed": true,
    "jupyter": {
     "outputs_hidden": true
    },
    "tags": []
   },
   "outputs": [
    {
     "name": "stdout",
     "output_type": "stream",
     "text": [
      "[+] Loading samtools 1.17  ... \n",
      "mkdir: cannot create directory ‘/data/CARDPB/data/HBCC/10X/HBCC_82040_10X_GBA//9CYCLES/depth/pychopper/merged/tmp/’: File exists\n",
      "Done\n",
      "Done\n"
     ]
    }
   ],
   "source": [
    "# GBA1/GBAP1/\n",
    "sh GBA_whole_coverage.sh \\\n",
    "cell_names.txt \\\n",
    "$MAIN/9CYCLES/mapped/ \\\n",
    "cell_names.txt "
   ]
  },
  {
   "cell_type": "code",
   "execution_count": 4,
   "id": "8d813224-d5b5-4645-891c-6cf13ba0f18c",
   "metadata": {
    "collapsed": true,
    "jupyter": {
     "outputs_hidden": true
    },
    "tags": []
   },
   "outputs": [
    {
     "name": "stdout",
     "output_type": "stream",
     "text": [
      "\u001b[?25h\n",
      "Attaching package: ‘dplyr’\n",
      "\n",
      "The following objects are masked from ‘package:stats’:\n",
      "\n",
      "    filter, lag\n",
      "\n",
      "The following objects are masked from ‘package:base’:\n",
      "\n",
      "    intersect, setdiff, setequal, union\n",
      "\n",
      "\u001b[?25h\u001b[?25h\u001b[?25h\u001b[?25h\u001b[?25h\u001b[?25h\u001b[?25h\u001b[?25h\u001b[?25h\u001b[?25h\u001b[?25h\u001b[?25h\u001b[?25h\u001b[?25h\u001b[?25h\u001b[?25h\u001b[?25hDensity plot saved as: onlyintron8.png \n",
      "\u001b[?25h\u001b[?25h\u001b[?25h\u001b[?25hDensity plot saved as: exon9.png \n",
      "\u001b[?25h\u001b[?25h\u001b[?25h\u001b[?25hDensity plot saved as: exon8.png \n",
      "\u001b[?25h\u001b[?25h\u001b[?25h\u001b[?25hDensity plot saved as: intron8.png \n",
      "\u001b[?25h\u001b[?25h\u001b[?25h\u001b[?25hDensity plot saved as: intron8_minus_transcript.png \n",
      "\u001b[?25h\u001b[?25h\u001b[?25h\u001b[?25h\u001b[?25h\u001b[?25h\u001b[?25hDensity plot saved as: GBA_whole.png \n",
      "\u001b[?25h\u001b[?25h\u001b[?25h\u001b[?25h\u001b[?25h\u001b[?25h\u001b[?25hDensity plot saved as: GBAP1_whole.png \n",
      "\u001b[?25h\u001b[?25h\n"
     ]
    }
   ],
   "source": [
    "# Plot merged\n",
    "Rscript plots.r"
   ]
  },
  {
   "cell_type": "markdown",
   "id": "26734cc0-4b38-4e87-8b89-e84714436853",
   "metadata": {},
   "source": [
    "## 6. Sequence diversity for perfect matches"
   ]
  },
  {
   "cell_type": "code",
   "execution_count": 39,
   "id": "4ab62b35-f68a-4e4a-bb7b-743e7bc0e819",
   "metadata": {
    "tags": []
   },
   "outputs": [],
   "source": [
    "mkdir $MAIN/sequence_diversity/\n",
    "cd $MAIN/sequence_diversity/"
   ]
  },
  {
   "cell_type": "code",
   "execution_count": 47,
   "id": "d721d5f3-75d5-43cd-9923-4338f8c46032",
   "metadata": {
    "tags": []
   },
   "outputs": [],
   "source": [
    "cat $MAIN/cell_types/cell_names.txt | while read line ; do\n",
    "sh sequence_diversity.sh $line\n",
    "done"
   ]
  },
  {
   "cell_type": "code",
   "execution_count": 43,
   "id": "e9553431-b785-4f12-a951-4d7831f22b04",
   "metadata": {
    "collapsed": true,
    "jupyter": {
     "outputs_hidden": true
    },
    "tags": []
   },
   "outputs": [
    {
     "name": "stdout",
     "output_type": "stream",
     "text": [
      "\u001b[?25h\u001b[?25h\u001b[?25h\u001b[?25h\u001b[?25h\u001b[?25h\u001b[?25h\u001b[?25h\u001b[?25h\u001b[?25h\u001b[?25h\u001b[?25hDensity plot saved as: Astrocyte_density.png \n",
      "\u001b[?25h\u001b[?25h\u001b[?25h\u001b[?25h\u001b[?25h\u001b[?25h\u001b[?25h\u001b[?25h\u001b[?25h\u001b[?25h\u001b[?25h\u001b[?25h\u001b[?25h\u001b[?25hDensity plot saved as: Excitatory_Neuron_density.png \n",
      "\u001b[?25h\u001b[?25h\u001b[?25h\u001b[?25h\u001b[?25h\u001b[?25h\u001b[?25h\u001b[?25h\u001b[?25h\u001b[?25h\u001b[?25h\u001b[?25h\u001b[?25h\u001b[?25hDensity plot saved as: Inhibitory_Neuron_density.png \n",
      "\u001b[?25h\u001b[?25h\u001b[?25h\u001b[?25h\u001b[?25h\u001b[?25h\u001b[?25h\u001b[?25h\u001b[?25h\u001b[?25h\u001b[?25h\u001b[?25h\u001b[?25h\u001b[?25hDensity plot saved as: Microglia_density.png \n",
      "\u001b[?25h\u001b[?25h\u001b[?25h\u001b[?25h\u001b[?25h\u001b[?25h\u001b[?25h\u001b[?25h\u001b[?25h\u001b[?25h\u001b[?25h\u001b[?25h\u001b[?25h\u001b[?25hDensity plot saved as: Oligo_Precursor_density.png \n",
      "\u001b[?25h\u001b[?25h\u001b[?25h\u001b[?25h\u001b[?25h\u001b[?25h\u001b[?25h\u001b[?25h\u001b[?25h\u001b[?25h\u001b[?25h\u001b[?25h\u001b[?25h\u001b[?25hDensity plot saved as: Oligodendrocyte_density.png \n",
      "\u001b[?25h\u001b[?25h\u001b[?25h\u001b[?25h\u001b[?25h\u001b[?25h\u001b[?25h\u001b[?25h\u001b[?25h\u001b[?25h\u001b[?25h\u001b[?25h\u001b[?25h\u001b[?25hDensity plot saved as: Vascular_density.png \n",
      "\u001b[?25h\u001b[?25h\n"
     ]
    }
   ],
   "source": [
    "# Make density. plots\n",
    "cat $MAIN/sequence_diversity/plot_inputs.txt | while read -r first second ; do\n",
    "Rscript density_plots.R $first \"$second\" $MAIN/sequence_diversity/\"$first\"_counts.txt\n",
    "done\n",
    "# plot_inputs.txt specifies color per cell"
   ]
  },
  {
   "cell_type": "code",
   "execution_count": null,
   "id": "f06fc1d3-700f-46f6-b182-17dbf430e312",
   "metadata": {},
   "outputs": [],
   "source": []
  }
 ],
 "metadata": {
  "kernelspec": {
   "display_name": "Bash",
   "language": "bash",
   "name": "bash"
  },
  "language_info": {
   "codemirror_mode": "shell",
   "file_extension": ".sh",
   "mimetype": "text/x-sh",
   "name": "bash"
  }
 },
 "nbformat": 4,
 "nbformat_minor": 5
}
