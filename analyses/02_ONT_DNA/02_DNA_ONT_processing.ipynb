{
 "cells": [
  {
   "cell_type": "markdown",
   "id": "28eacc11-4e81-40f0-aca0-c37986cd9554",
   "metadata": {},
   "source": [
    "# DNA Oxford Nanopore Processing and Analysis"
   ]
  },
  {
   "cell_type": "markdown",
   "id": "5f9e3355-d38e-45e1-83fa-06a6984d28c7",
   "metadata": {},
   "source": [
    "* **Project:** African-ancestry intronic *GBA1* branch point variant\n",
    "* **Language:** Bash \n",
    "* **Last updated:** 20-DEC-2023"
   ]
  },
  {
   "cell_type": "markdown",
   "id": "8a93d7b0-ba28-40cd-adb7-f00cd649ca0d",
   "metadata": {},
   "source": [
    "## Notebook Overview\n",
    "- Process raw RNAseq data from basecalling to mapping"
   ]
  },
  {
   "cell_type": "markdown",
   "id": "029a82c6-3e63-4626-ba42-4b0f4df5a7d0",
   "metadata": {
    "tags": []
   },
   "source": [
    "**Note**: Notebook is only showing processing of the CRISPR-edited lines. Other DNA-seq ONT data was also processed the same way."
   ]
  },
  {
   "cell_type": "markdown",
   "id": "df4ac200",
   "metadata": {},
   "source": [
    "### CHANGELOG\n",
    "20-DEC-2023: Notebook final draft"
   ]
  },
  {
   "cell_type": "markdown",
   "id": "8fcd7f9e-e457-4440-a646-3bafc2f3a55a",
   "metadata": {
    "tags": []
   },
   "source": [
    "---"
   ]
  },
  {
   "cell_type": "markdown",
   "id": "dbfeb904-8430-4275-987f-da2bda29ea12",
   "metadata": {},
   "source": [
    "**CRISPR NAMING KEY**  \\\n",
    "    CT_37 --> ND01137_TT \\\n",
    "    CT_89 --> ND22789_GG \\\n",
    "    MT_37 --> ND01137_GG_Mock \\\n",
    "    MT_89 --> ND22789_TT_Mock \\\n",
    "    PT_37 --> ND01137_GT \\\n",
    "    PT_89 --> ND22789_GT \\\n",
    "    WT_89 --> ND22789_TT_OG "
   ]
  },
  {
   "cell_type": "code",
   "execution_count": 3,
   "id": "436c17b6-955d-411a-b877-c061f9e01da6",
   "metadata": {
    "tags": []
   },
   "outputs": [],
   "source": [
    "MAIN=./GBA1_CRISPR/DNA/"
   ]
  },
  {
   "cell_type": "code",
   "execution_count": 1,
   "id": "338ca279-7fee-43a2-b941-966216fccd5e",
   "metadata": {
    "tags": []
   },
   "outputs": [
    {
     "name": "stdout",
     "output_type": "stream",
     "text": [
      "MT_37   PAM72720\n",
      "MT_89   PAM73235\n",
      "MT_89   PAM80411\n",
      "CT_37   PAM73573\n",
      "CT_89   PAM31684\n",
      "PT_37   PAM73647\n",
      "PT_37   PAM74549\n",
      "PT_89   PAM72819\n",
      "PT_89   PAM73226\n",
      "WT_89   PAQ45921\n"
     ]
    }
   ],
   "source": [
    "cat $MAIN/sample_names_DNA.txt\n",
    "# Note: some samples have multiple flow cells"
   ]
  },
  {
   "cell_type": "markdown",
   "id": "a984f068-590e-47f4-987a-f2a47ef3701d",
   "metadata": {},
   "source": [
    "## 1a. Basecalling"
   ]
  },
  {
   "cell_type": "code",
   "execution_count": null,
   "id": "e58c977c-273c-4201-94f0-3bdfe1872995",
   "metadata": {},
   "outputs": [],
   "source": [
    "cat sample_names_DNA.txt | while read -r first second ; do\n",
    "sbatch --partition=gpu --cpus-per-task=10 --mem=50g --gres=gpu:a100:2,lscratch:200 --time=5-0 \\\n",
    "--wrap=\"bash guppy_basecaller_R9_DNA.sh $MAIN/CRISPR_\"$first\"_DNA/fast5/ $MAIN/CRISPR_\"$first\"_DNA/out_GUP/\"\n",
    "done"
   ]
  },
  {
   "cell_type": "markdown",
   "id": "87d1ec5a-5ccc-46ef-8958-69f1638b7692",
   "metadata": {
    "jupyter": {
     "outputs_hidden": true
    },
    "tags": []
   },
   "source": [
    "## 1b. Cleaning post basecalling"
   ]
  },
  {
   "cell_type": "code",
   "execution_count": null,
   "id": "1546a46e-56f3-4d70-82c7-a8133538361d",
   "metadata": {},
   "outputs": [],
   "source": [
    "cat sample_names_DNA.txt | while read -r first second ; do\n",
    "sbatch --mem=80g --cpus-per-task=5 --time=1-0 2_ONT_basecalling_clean_up.sh \\\n",
    "$MAIN/CRISPR_\"$first\"_DNA/out_GUP/pass/ \\\n",
    "\"$first\"_\"$second\"\n",
    "done"
   ]
  },
  {
   "cell_type": "code",
   "execution_count": null,
   "id": "0a4dedc0-7786-417f-97ab-ceb2bb6cb192",
   "metadata": {},
   "outputs": [],
   "source": [
    "cat sample_names_DNA.txt | while read -r first second ; do\n",
    "cd $MAIN/CRISPR_\"$first\"_DNA/out_GUP/\n",
    "mkdir log_files\n",
    "mv *log log_files\n",
    "mv sequencing_summary.txt ../other_reports/\n",
    "mv sequencing_telemetry.js ../other_reports/\n",
    "mv log_files ../other_reports/\n",
    "mv ./pass/\"$first\"_\"$second\".* ../\n",
    "cd $MAIN\n",
    "done"
   ]
  },
  {
   "cell_type": "code",
   "execution_count": null,
   "id": "237a38a0-ec0f-4e4d-bdbb-a5b81be5ada9",
   "metadata": {},
   "outputs": [],
   "source": [
    "cat sample_names_DNA.txt | while read -r first second ; do\n",
    "cd $MAIN/CRISPR_\"$first\"_DNA/out_GUP/\n",
    "mv ./pass/pycoQC* ../other_reports/\n",
    "mv ./pass/stats.pass.tsv ../other_reports/\n",
    "rm ./pass/*.fastq\n",
    "rm -r ./pass/\n",
    "rm -r ./fail/\n",
    "cd ../\n",
    "du -sh ./out_GUP/\n",
    "rm -r ./out_GUP/\n",
    "cd $MAIN\n",
    "done"
   ]
  },
  {
   "cell_type": "markdown",
   "id": "ae0f30aa-6e37-48c5-a81e-fd718c7a9d24",
   "metadata": {},
   "source": [
    "## 2. Mapping"
   ]
  },
  {
   "cell_type": "code",
   "execution_count": null,
   "id": "bbd77aab-48c6-4364-abdb-c9a0c2023a56",
   "metadata": {},
   "outputs": [],
   "source": [
    "cat sample_names_DNA.txt | while read -r first second ; do\n",
    "mkdir $MAIN/CRISPR_\"$first\"_DNA/mapped/\n",
    "done"
   ]
  },
  {
   "cell_type": "code",
   "execution_count": null,
   "id": "a13fd4e6-ee2c-4cf7-831c-30fe3b82c22a",
   "metadata": {},
   "outputs": [],
   "source": [
    "cat sample_names_DNA.txt | while read -r first second ; do\n",
    "sbatch --mem=80g --cpus-per-task=5 --time=2-0 --mail-type=END 3_ONT_DNA_meth_mapping.sh \\\n",
    "$MAIN/CRISPR_\"$first\"_DNA/ \\\n",
    "\"$first\"_\"$second\".bam \\\n",
    " $MAIN/CRISPR_\"$first\"_DNA/mapped/ \\\n",
    "\"$first\"_\"$second\"_hg38\n",
    "done"
   ]
  },
  {
   "cell_type": "code",
   "execution_count": null,
   "id": "5b7ae215-d204-41b3-8dfb-c542638159f7",
   "metadata": {},
   "outputs": [],
   "source": [
    "# Merge mapped bams per sample, for 1 FC samples it is just a rename for consistency\n",
    "cat sample_names_DNA.txt | while read -r first second ; do\n",
    "sbatch --mem=50g --cpus-per-task=5 --time=2-0 merge.sh $first\n",
    "done"
   ]
  },
  {
   "cell_type": "markdown",
   "id": "0a385123-1d55-40e5-ae74-1baaea482b96",
   "metadata": {},
   "source": [
    "## Bams are now ready to view on IGV"
   ]
  },
  {
   "cell_type": "code",
   "execution_count": null,
   "id": "1b2fec05-0117-438e-9f6e-c3bde88a632d",
   "metadata": {},
   "outputs": [],
   "source": []
  }
 ],
 "metadata": {
  "kernelspec": {
   "display_name": "Bash",
   "language": "bash",
   "name": "bash"
  },
  "language_info": {
   "codemirror_mode": "shell",
   "file_extension": ".sh",
   "mimetype": "text/x-sh",
   "name": "bash"
  }
 },
 "nbformat": 4,
 "nbformat_minor": 5
}
