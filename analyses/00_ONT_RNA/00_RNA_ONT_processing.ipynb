{
 "cells": [
  {
   "cell_type": "markdown",
   "id": "28eacc11-4e81-40f0-aca0-c37986cd9554",
   "metadata": {},
   "source": [
    "# RNA Oxford Nanopore Processing and Analysis"
   ]
  },
  {
   "cell_type": "markdown",
   "id": "5f9e3355-d38e-45e1-83fa-06a6984d28c7",
   "metadata": {},
   "source": [
    "* **Project:** African-ancestry intronic *GBA1* branch point variant\n",
    "* **Language:** Bash \n",
    "* **Last updated:** 20-DEC-2023"
   ]
  },
  {
   "cell_type": "markdown",
   "id": "8a93d7b0-ba28-40cd-adb7-f00cd649ca0d",
   "metadata": {},
   "source": [
    "## Notebook Overview\n",
    "- Process raw RNAseq data from basecalling to mapping\n",
    "- Calculate coverage across regions and plot\n",
    "- Get TPMs for *GBA1* transcripts"
   ]
  },
  {
   "cell_type": "markdown",
   "id": "029a82c6-3e63-4626-ba42-4b0f4df5a7d0",
   "metadata": {
    "tags": []
   },
   "source": [
    "**Note**: Notebook is only showing processing of the CRISPR-edited lines. Other RNA-seq ONT data was also processed the same way."
   ]
  },
  {
   "cell_type": "markdown",
   "id": "d1f46232",
   "metadata": {},
   "source": [
    "### CHANGELOG\n",
    "20-DEC-2023: Notebook final draft"
   ]
  },
  {
   "cell_type": "markdown",
   "id": "8fcd7f9e-e457-4440-a646-3bafc2f3a55a",
   "metadata": {
    "tags": []
   },
   "source": [
    "---"
   ]
  },
  {
   "cell_type": "markdown",
   "id": "dbfeb904-8430-4275-987f-da2bda29ea12",
   "metadata": {},
   "source": [
    "**CRISPR NAMING KEY**  \\\n",
    "    CT_37 --> ND01137_TT \\\n",
    "    CT_89 --> ND22789_GG \\\n",
    "    MT_37 --> ND01137_GG_Mock \\\n",
    "    MT_89 --> ND22789_TT_Mock \\\n",
    "    PT_37 --> ND01137_GT \\\n",
    "    PT_89 --> ND22789_GT \\\n",
    "    WT_89 --> ND22789_TT_OG "
   ]
  },
  {
   "cell_type": "code",
   "execution_count": 3,
   "id": "436c17b6-955d-411a-b877-c061f9e01da6",
   "metadata": {
    "tags": []
   },
   "outputs": [],
   "source": [
    "MAIN=./GBA1_CRISPR/RNA/"
   ]
  },
  {
   "cell_type": "code",
   "execution_count": null,
   "id": "338ca279-7fee-43a2-b941-966216fccd5e",
   "metadata": {
    "tags": []
   },
   "outputs": [
    {
     "name": "stdout",
     "output_type": "stream",
     "text": [
      "MT_37   PAM80561\n",
      "MT_89   PAM79877\n",
      "CT_37   PAG71406\n",
      "CT_89   PAM08329\n",
      "PT_37   PAM72829\n",
      "PT_89   PAM30096\n",
      "WT_89   PAQ45921\n"
     ]
    }
   ],
   "source": [
    "cat $MAIN/sample_names_RNA.txt"
   ]
  },
  {
   "cell_type": "markdown",
   "id": "a984f068-590e-47f4-987a-f2a47ef3701d",
   "metadata": {},
   "source": [
    "## 1a. Basecalling"
   ]
  },
  {
   "cell_type": "code",
   "execution_count": null,
   "id": "e58c977c-273c-4201-94f0-3bdfe1872995",
   "metadata": {},
   "outputs": [],
   "source": [
    "cat sample_names_RNA.txt | while read -r first second ; do\n",
    "sbatch --partition=gpu --cpus-per-task=10 --mem=50g --gres=gpu:a100:2,lscratch:200 --time=5-0 \\\n",
    "--wrap=\"bash basecalling_RNA_R9_NO_METH.sh $MAIN/CRISPR_\"$first\"_RNA/fast5/ $MAIN/CRISPR_\"$first\"_RNA/out_GUP/\"\n",
    "done"
   ]
  },
  {
   "cell_type": "markdown",
   "id": "87d1ec5a-5ccc-46ef-8958-69f1638b7692",
   "metadata": {
    "jupyter": {
     "outputs_hidden": true
    },
    "tags": []
   },
   "source": [
    "## 1b. Cleaning post basecalling"
   ]
  },
  {
   "cell_type": "code",
   "execution_count": null,
   "id": "1546a46e-56f3-4d70-82c7-a8133538361d",
   "metadata": {},
   "outputs": [],
   "source": [
    "cat sample_names_RNA.txt | while read -r first second ; do\n",
    "sbatch --mem=80g --cpus-per-task=5 --time=1-0 2_ONT_basecalling_clean_up.sh \\\n",
    "$MAIN/CRISPR_\"$first\"_RNA/out_GUP/pass/ \\\n",
    "\"$first\"_\"$second\"\n",
    "done"
   ]
  },
  {
   "cell_type": "code",
   "execution_count": null,
   "id": "0a4dedc0-7786-417f-97ab-ceb2bb6cb192",
   "metadata": {},
   "outputs": [],
   "source": [
    "cat sample_names_RNA.txt | while read -r first second ; do\n",
    "cd $MAIN/CRISPR_\"$first\"_RNA/out_GUP/\n",
    "mkdir log_files\n",
    "mv *log log_files\n",
    "mv sequencing_summary.txt ../other_reports/\n",
    "mv sequencing_telemetry.js ../other_reports/\n",
    "mv log_files ../other_reports/\n",
    "mv ./pass/*.fastq.gz ../\n",
    "cd $MAIN\n",
    "done"
   ]
  },
  {
   "cell_type": "code",
   "execution_count": null,
   "id": "237a38a0-ec0f-4e4d-bdbb-a5b81be5ada9",
   "metadata": {},
   "outputs": [],
   "source": [
    "cat sample_names_RNA.txt | while read -r first second ; do\n",
    "cd $MAIN/CRISPR_\"$first\"_RNA/out_GUP/\n",
    "mv ./pass/pycoQC* ../other_reports/\n",
    "mv ./pass/stats.pass.tsv ../other_reports/\n",
    "rm ./pass/*.fastq\n",
    "rm -r ./pass/\n",
    "rm -r ./fail/\n",
    "cd ../\n",
    "du -sh ./out_GUP/\n",
    "rm -r ./out_GUP/\n",
    "cd $MAIN\n",
    "done"
   ]
  },
  {
   "cell_type": "markdown",
   "id": "ae0f30aa-6e37-48c5-a81e-fd718c7a9d24",
   "metadata": {},
   "source": [
    "## 2. Mapping"
   ]
  },
  {
   "cell_type": "code",
   "execution_count": null,
   "id": "a13fd4e6-ee2c-4cf7-831c-30fe3b82c22a",
   "metadata": {},
   "outputs": [],
   "source": [
    "mkdir $MAIN/pychopper/\n",
    "mkdir $MAIN/pychopper/stats/\n",
    "mkdir $MAIN/pychopper/fastqs/\n",
    "mkdir $MAIN/minimap2/"
   ]
  },
  {
   "cell_type": "code",
   "execution_count": null,
   "id": "c337cd5a-037c-43c9-b93e-ad9836674433",
   "metadata": {},
   "outputs": [],
   "source": [
    "cat sample_names_RNA.txt | while read -r first second; do\n",
    "sbatch --mem=80g --cpus-per-task=10 --time=4-0 --mail-type=END pychopper_minimap.sh \"$first\"_\"$second\" $first\n",
    "done"
   ]
  },
  {
   "cell_type": "markdown",
   "id": "04c06040-b659-4314-be5a-928968adc35f",
   "metadata": {},
   "source": [
    "## 3. Calculate coverage"
   ]
  },
  {
   "cell_type": "code",
   "execution_count": null,
   "id": "3919936f-253b-4105-9c5a-b94750f7a6a9",
   "metadata": {},
   "outputs": [],
   "source": [
    "mkdir $MAIN/depth/\n",
    "cd $MAIN/depth/"
   ]
  },
  {
   "cell_type": "markdown",
   "id": "813a1fd2-63c4-4df7-a8e3-7aca2e71bc96",
   "metadata": {},
   "source": [
    "Need four files files: \\\n",
    "    - GBA1.bed : BED file with coordinates for GBA1 gene regions of interest \\\n",
    "    - GBA1_regions: File with names for this regions \\\n",
    "    - sample_names.txt : File with sample name prefixes \\\n",
    "    - sample_names_geno.txt : File with sample name prefixes in column 1 and their genotypes in column 2"
   ]
  },
  {
   "cell_type": "code",
   "execution_count": null,
   "id": "ff13eb80-0658-402f-9428-16e8a35eb619",
   "metadata": {
    "tags": []
   },
   "outputs": [
    {
     "name": "stdout",
     "output_type": "stream",
     "text": [
      "chr1    155235845       155235885       intron8transcript\n",
      "chr1    155235681       155235844       exon9\n",
      "chr1    155236245       155236469       exon8\n",
      "chr1    155235845       155236244       intron8\n",
      "chr1    155235886       155236244       intron8_minus_transcript\n"
     ]
    }
   ],
   "source": [
    "cat GBA1.bed"
   ]
  },
  {
   "cell_type": "code",
   "execution_count": null,
   "id": "34de855f-323d-4558-a6a1-e100683bf5d2",
   "metadata": {
    "tags": []
   },
   "outputs": [
    {
     "name": "stdout",
     "output_type": "stream",
     "text": [
      "intron8transcript\n",
      "exon9\n",
      "exon8\n",
      "intron8\n",
      "intron8_minus_transcript\n"
     ]
    }
   ],
   "source": [
    "cat GBA1_regions.txt"
   ]
  },
  {
   "cell_type": "code",
   "execution_count": 2,
   "id": "d3a63621-3a4b-49c6-b9c8-3bb5e1335492",
   "metadata": {
    "tags": []
   },
   "outputs": [
    {
     "name": "stdout",
     "output_type": "stream",
     "text": [
      "MT_37   GG\n",
      "MT_89   TT\n",
      "CT_89   GG\n",
      "PT_37   GT\n",
      "PT_89   GT\n",
      "WT_89   TT\n"
     ]
    }
   ],
   "source": [
    "cat sample_names_geno.txt"
   ]
  },
  {
   "cell_type": "code",
   "execution_count": null,
   "id": "eb8a019e-c783-439f-95cf-75d2bf20d8ae",
   "metadata": {},
   "outputs": [],
   "source": [
    "# Regional coverage\n",
    "sh GBA_regional_coverage.sh \\\n",
    "sample_names_geno.txt \\\n",
    "$MAIN/minimap2/ \\\n",
    "sample_names.txt\n",
    "# Note: Generating number of primary aligned reads will take the longest time if not generated previously"
   ]
  },
  {
   "cell_type": "code",
   "execution_count": null,
   "id": "3fcf6944-74bd-4e45-a054-88655ff59b47",
   "metadata": {},
   "outputs": [],
   "source": [
    "# Whole gene coverage, GBA1 and GBAP1\n",
    "sh GBA_whole_coverage.sh \\\n",
    "sample_names_geno.txt \\\n",
    "$MAIN/minimap2/ \\\n",
    "sample_names.txt\n",
    "# Note: Generating number of primary aligned reads will take the longest time if not generated previously"
   ]
  },
  {
   "cell_type": "markdown",
   "id": "13cb2c59-7bd4-491b-9359-94eeacd7e11d",
   "metadata": {},
   "source": [
    "### Make plots"
   ]
  },
  {
   "cell_type": "markdown",
   "id": "cd75a4ee-12b8-495d-9d02-fdb482a51fb2",
   "metadata": {},
   "source": [
    "First rename coverage files entries with full sample names"
   ]
  },
  {
   "cell_type": "code",
   "execution_count": null,
   "id": "f0e81b4b-e785-44e2-add7-f975e9a64466",
   "metadata": {},
   "outputs": [],
   "source": [
    "# Regional\n",
    "sed -i 's/MT_89/ND22789_TT_Mock/g; s/MT_37/ND01137_GG_Mock/g; s/PT_89/ND22789_GT/g; s/PT_37/ND01137_GT/g; s/CT_89/ND22789_GG/g; s/WT_37/ND01137_GG_OG/g; s/WT_89/ND22789_TT_OG/' regional_cov_all.txt"
   ]
  },
  {
   "cell_type": "code",
   "execution_count": null,
   "id": "930bb2ac-fd1a-4ae3-bbef-4e7ac9e8aca8",
   "metadata": {},
   "outputs": [],
   "source": [
    "# GBA1\n",
    "sed -i 's/MT_89/ND22789_TT_Mock/g; s/MT_37/ND01137_GG_Mock/g; s/PT_89/ND22789_GT/g; s/PT_37/ND01137_GT/g; s/CT_89/ND22789_GG/g; s/WT_37/ND01137_GG_OG/g; s/WT_89/ND22789_TT_OG/' cov_all_whole.txt"
   ]
  },
  {
   "cell_type": "code",
   "execution_count": null,
   "id": "fae75dcf-874b-401e-bca3-68165ec9ed78",
   "metadata": {},
   "outputs": [],
   "source": [
    "# GBAP1\n",
    "sed -i 's/MT_89/ND22789_TT_Mock/g; s/MT_37/ND01137_GG_Mock/g; s/PT_89/ND22789_GT/g; s/PT_37/ND01137_GT/g; s/CT_89/ND22789_GG/g; s/WT_37/ND01137_GG_OG/g; s/WT_89/ND22789_TT_OG/' cov_all_whole.GBAP1.txt"
   ]
  },
  {
   "cell_type": "markdown",
   "id": "89024030-2a7b-4696-900a-e6b1d440ef66",
   "metadata": {},
   "source": [
    "Run plots in R"
   ]
  },
  {
   "cell_type": "code",
   "execution_count": null,
   "id": "d6226fbd-756f-49d3-875c-86798c9257a0",
   "metadata": {},
   "outputs": [],
   "source": [
    "Rscript plots.r\n",
    "# Will output a png of each plot and a pdf with all plots compiled"
   ]
  },
  {
   "cell_type": "markdown",
   "id": "98454d50-8bcd-4d86-bfc0-d3d570b67f8d",
   "metadata": {},
   "source": [
    "## 4. Coverage stats"
   ]
  },
  {
   "cell_type": "code",
   "execution_count": 3,
   "id": "69b21570-5cc6-476c-831a-2e136c01299c",
   "metadata": {
    "collapsed": true,
    "jupyter": {
     "outputs_hidden": true
    },
    "tags": []
   },
   "outputs": [
    {
     "name": "stdout",
     "output_type": "stream",
     "text": [
      "\n",
      "Attaching package: ‘dplyr’\n",
      "\n",
      "The following objects are masked from ‘package:stats’:\n",
      "\n",
      "    filter, lag\n",
      "\n",
      "The following objects are masked from ‘package:base’:\n",
      "\n",
      "    intersect, setdiff, setequal, union\n",
      "\n",
      "\u001b[?25h\u001b[?25h\u001b[?25h\u001b[?25h\u001b[?25h\u001b[?25h\u001b[?25h\u001b[?25h\u001b[?25h\u001b[?25h\u001b[?25h\u001b[?25h\u001b[?25h\n",
      "Call:\n",
      "glm(formula = NORMALIZEDDEPTH ~ geno_new, data = only_transcript_intron)\n",
      "\n",
      "Coefficients:\n",
      "            Estimate Std. Error t value Pr(>|t|)  \n",
      "(Intercept)  0.01942    0.07855   0.247   0.8146  \n",
      "geno_new     0.26358    0.09294   2.836   0.0364 *\n",
      "---\n",
      "Signif. codes:  0 ‘***’ 0.001 ‘**’ 0.01 ‘*’ 0.05 ‘.’ 0.1 ‘ ’ 1\n",
      "\n",
      "(Dispersion parameter for gaussian family taken to be 0.01234099)\n",
      "\n",
      "    Null deviance: 0.160951  on 6  degrees of freedom\n",
      "Residual deviance: 0.061705  on 5  degrees of freedom\n",
      "AIC: -7.254\n",
      "\n",
      "Number of Fisher Scoring iterations: 2\n",
      "\n",
      "\u001b[?25h\u001b[?25h\u001b[?25h(Intercept)    geno_new \n",
      " 0.81458235  0.03642375 \n",
      "\u001b[?25h\u001b[?25h\n",
      "Call:\n",
      "glm(formula = NORMALIZEDDEPTH ~ geno_new, data = exon8)\n",
      "\n",
      "Coefficients:\n",
      "            Estimate Std. Error t value Pr(>|t|)    \n",
      "(Intercept)   2.6275     0.1661  15.816 1.84e-05 ***\n",
      "geno_new     -1.3133     0.1966  -6.681  0.00114 ** \n",
      "---\n",
      "Signif. codes:  0 ‘***’ 0.001 ‘**’ 0.01 ‘*’ 0.05 ‘.’ 0.1 ‘ ’ 1\n",
      "\n",
      "(Dispersion parameter for gaussian family taken to be 0.0552023)\n",
      "\n",
      "    Null deviance: 2.74010  on 6  degrees of freedom\n",
      "Residual deviance: 0.27601  on 5  degrees of freedom\n",
      "AIC: 3.2326\n",
      "\n",
      "Number of Fisher Scoring iterations: 2\n",
      "\n",
      "\u001b[?25h\u001b[?25h\u001b[?25h (Intercept)     geno_new \n",
      "1.838494e-05 1.135218e-03 \n",
      "\u001b[?25h\u001b[?25h\n",
      "Call:\n",
      "glm(formula = NORMALIZEDDEPTH ~ geno_new, data = exon9)\n",
      "\n",
      "Coefficients:\n",
      "            Estimate Std. Error t value Pr(>|t|)    \n",
      "(Intercept)   3.0644     0.2772  11.056 0.000105 ***\n",
      "geno_new     -1.1664     0.3279  -3.557 0.016272 *  \n",
      "---\n",
      "Signif. codes:  0 ‘***’ 0.001 ‘**’ 0.01 ‘*’ 0.05 ‘.’ 0.1 ‘ ’ 1\n",
      "\n",
      "(Dispersion parameter for gaussian family taken to be 0.1536414)\n",
      "\n",
      "    Null deviance: 2.71178  on 6  degrees of freedom\n",
      "Residual deviance: 0.76821  on 5  degrees of freedom\n",
      "AIC: 10.398\n",
      "\n",
      "Number of Fisher Scoring iterations: 2\n",
      "\n",
      "\u001b[?25h\u001b[?25h\u001b[?25h(Intercept)    geno_new \n",
      "0.000105426 0.016271609 \n",
      "\u001b[?25h\u001b[?25h\n",
      "Call:\n",
      "glm(formula = NORMALIZEDDEPTH ~ geno_new, data = intron8)\n",
      "\n",
      "Coefficients:\n",
      "            Estimate Std. Error t value Pr(>|t|)  \n",
      "(Intercept)  0.00199    0.03248   0.061   0.9535  \n",
      "geno_new     0.14273    0.03843   3.714   0.0138 *\n",
      "---\n",
      "Signif. codes:  0 ‘***’ 0.001 ‘**’ 0.01 ‘*’ 0.05 ‘.’ 0.1 ‘ ’ 1\n",
      "\n",
      "(Dispersion parameter for gaussian family taken to be 0.002109711)\n",
      "\n",
      "    Null deviance: 0.039652  on 6  degrees of freedom\n",
      "Residual deviance: 0.010549  on 5  degrees of freedom\n",
      "AIC: -19.619\n",
      "\n",
      "Number of Fisher Scoring iterations: 2\n",
      "\n",
      "\u001b[?25h\u001b[?25h\u001b[?25h(Intercept)    geno_new \n",
      " 0.95350821  0.01379507 \n",
      "\u001b[?25h\u001b[?25h\n",
      "Call:\n",
      "glm(formula = NORMALIZEDDEPTH ~ geno_new, data = intron8_minus_transcript)\n",
      "\n",
      "Coefficients:\n",
      "              Estimate Std. Error t value Pr(>|t|)  \n",
      "(Intercept) -1.382e-17  3.808e-02   0.000   1.0000  \n",
      "geno_new     1.289e-01  4.506e-02   2.861   0.0354 *\n",
      "---\n",
      "Signif. codes:  0 ‘***’ 0.001 ‘**’ 0.01 ‘*’ 0.05 ‘.’ 0.1 ‘ ’ 1\n",
      "\n",
      "(Dispersion parameter for gaussian family taken to be 0.002900737)\n",
      "\n",
      "    Null deviance: 0.038251  on 6  degrees of freedom\n",
      "Residual deviance: 0.014504  on 5  degrees of freedom\n",
      "AIC: -17.39\n",
      "\n",
      "Number of Fisher Scoring iterations: 2\n",
      "\n",
      "\u001b[?25h\u001b[?25h\u001b[?25h(Intercept)    geno_new \n",
      " 1.00000000  0.03535485 \n",
      "\u001b[?25hError in file(file, \"rt\") : cannot open the connection\n",
      "Calls: read.table -> file\n",
      "In addition: Warning message:\n",
      "In file(file, \"rt\") :\n",
      "  cannot open file 'cov_all_whole.txt': No such file or directory\n",
      "Execution halted\n",
      "\u001b[?25h\n"
     ]
    },
    {
     "ename": "",
     "evalue": "1",
     "output_type": "error",
     "traceback": []
    }
   ],
   "source": [
    "Rscript coverage_stats.r"
   ]
  },
  {
   "cell_type": "markdown",
   "id": "b5648e00-01ff-4664-a6c2-64fbcd3d45c7",
   "metadata": {},
   "source": [
    "## 5. Transcript quantification with Stringtie2"
   ]
  },
  {
   "cell_type": "code",
   "execution_count": null,
   "id": "900695e7-af57-49eb-8889-ef940816b49b",
   "metadata": {},
   "outputs": [],
   "source": [
    "mkdir $MAIN/stringtie/\n",
    "cd $MAIN/stringtie/"
   ]
  },
  {
   "cell_type": "code",
   "execution_count": null,
   "id": "c94be048-e996-4c9c-872a-7c87394ef246",
   "metadata": {},
   "outputs": [],
   "source": [
    "# Run de novo\n",
    "cat $MAIN/sample_names_RNA.txt | while read -r first second; do\n",
    "sbatch --cpus-per-task=5 --mem=20g  --time=1-0 stringtie_denovo.sh \\\n",
    "$MAIN/stringtie/ \\\n",
    "$first \\\n",
    "$MAIN/minimap2/\"$first\".sorted.bam\n",
    "done"
   ]
  },
  {
   "cell_type": "code",
   "execution_count": null,
   "id": "d6cf4bdb-f06e-4352-9e85-a7ab38cdcb00",
   "metadata": {},
   "outputs": [],
   "source": [
    "# Run against a reference, including intron 8 novel transcript call from de novo GG runs\n",
    "cat $MAIN/sample_names_RNA.txt | while read -r first second; do\n",
    "sbatch --cpus-per-task=5 --mem=20g  --time=1-0 stringtie_ref.sh \\\n",
    "$MAIN/stringtie/ \\\n",
    "$first \\\n",
    "$MAIN/minimap2/\"$first\".sorted.bam\n",
    "done"
   ]
  }
 ],
 "metadata": {
  "kernelspec": {
   "display_name": "Bash",
   "language": "bash",
   "name": "bash"
  },
  "language_info": {
   "codemirror_mode": "shell",
   "file_extension": ".sh",
   "mimetype": "text/x-sh",
   "name": "bash"
  }
 },
 "nbformat": 4,
 "nbformat_minor": 5
}
