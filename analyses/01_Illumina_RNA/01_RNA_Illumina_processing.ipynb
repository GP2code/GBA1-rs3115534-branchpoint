{
 "cells": [
  {
   "cell_type": "markdown",
   "id": "28eacc11-4e81-40f0-aca0-c37986cd9554",
   "metadata": {},
   "source": [
    "# RNA Illumina Processing and Analysis"
   ]
  },
  {
   "cell_type": "markdown",
   "id": "5f9e3355-d38e-45e1-83fa-06a6984d28c7",
   "metadata": {},
   "source": [
    "* **Project:** African-ancestry intronic *GBA1* branch point variant\n",
    "* **Language:** Bash \n",
    "* **Last updated:** 02-JAN-2024"
   ]
  },
  {
   "cell_type": "markdown",
   "id": "8a93d7b0-ba28-40cd-adb7-f00cd649ca0d",
   "metadata": {},
   "source": [
    "## Notebook overview\n",
    "- Map Illumina RNA fastq\n",
    "- Calculate coverage across regions and plot"
   ]
  },
  {
   "cell_type": "markdown",
   "id": "029a82c6-3e63-4626-ba42-4b0f4df5a7d0",
   "metadata": {
    "tags": []
   },
   "source": [
    "**Note**: Notebook is only showing processing of the CORIELL Illumina RNA-seq. Other short-read RNA-seq data was also processed the same way."
   ]
  },
  {
   "cell_type": "markdown",
   "id": "0a9915f7",
   "metadata": {},
   "source": [
    "### CHANGELOG\n",
    "02-JAN-2024: Notebook final draft"
   ]
  },
  {
   "cell_type": "markdown",
   "id": "8fcd7f9e-e457-4440-a646-3bafc2f3a55a",
   "metadata": {
    "tags": []
   },
   "source": [
    "---"
   ]
  },
  {
   "cell_type": "code",
   "execution_count": 3,
   "id": "436c17b6-955d-411a-b877-c061f9e01da6",
   "metadata": {
    "tags": []
   },
   "outputs": [],
   "source": [
    "MAIN=./CORIELL_ILLUMINA/"
   ]
  },
  {
   "cell_type": "markdown",
   "id": "a984f068-590e-47f4-987a-f2a47ef3701d",
   "metadata": {},
   "source": [
    "## 1. Mapping"
   ]
  },
  {
   "cell_type": "code",
   "execution_count": null,
   "id": "e58c977c-273c-4201-94f0-3bdfe1872995",
   "metadata": {},
   "outputs": [],
   "source": [
    "cat names.txt | while read line\n",
    "do\n",
    "sbatch --mem=80g --cpus-per-task=10 --time=2-0 --mail-type=END star_align.sh \\\n",
    "$MAIN/hg_38_index/ \\\n",
    "$MAIN/fastqs/\"$line\"_\"$line\"_1.fastq.gz \\\n",
    "$MAIN/fastqs/\"$line\"_\"$line\"_2.fastq.gz \\\n",
    "$MAIN/mapped/$line/\n",
    "done\n"
   ]
  },
  {
   "cell_type": "markdown",
   "id": "87d1ec5a-5ccc-46ef-8958-69f1638b7692",
   "metadata": {
    "jupyter": {
     "outputs_hidden": true
    },
    "tags": []
   },
   "source": [
    "## 2. Coverage"
   ]
  },
  {
   "cell_type": "markdown",
   "id": "6ffff2cd-6623-48e6-96ff-d6d223b85dc8",
   "metadata": {},
   "source": [
    "Coverage followed same format as ONT RNA-seq. Please refer to that notebook for scripts and information."
   ]
  }
 ],
 "metadata": {
  "kernelspec": {
   "display_name": "Bash",
   "language": "bash",
   "name": "bash"
  },
  "language_info": {
   "codemirror_mode": "shell",
   "file_extension": ".sh",
   "mimetype": "text/x-sh",
   "name": "bash"
  }
 },
 "nbformat": 4,
 "nbformat_minor": 5
}
